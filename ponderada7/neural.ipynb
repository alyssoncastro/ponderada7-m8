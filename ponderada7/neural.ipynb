{
 "cells": [
  {
   "cell_type": "code",
   "execution_count": 103,
   "metadata": {},
   "outputs": [],
   "source": [
    "import numpy as np\n",
    "import random\n",
    "import matplotlib.pyplot as plt\n",
    "import tensorflow as tf\n",
    "from tensorflow.keras.datasets import mnist\n",
    "from keras.models import Sequential\n",
    "from keras.layers import Dense\n",
    "from random import randint"
   ]
  },
  {
   "cell_type": "code",
   "execution_count": 104,
   "metadata": {},
   "outputs": [],
   "source": [
    "# Carregando o dataset\n",
    "(x_train_alt, y_train_alt), (x_test_alt, y_test_alt) = mnist.load_data()"
   ]
  },
  {
   "cell_type": "code",
   "execution_count": 105,
   "metadata": {},
   "outputs": [],
   "source": [
    "# Configurando a rede neural convolucional\n",
    "model_alt = tf.keras.models.Sequential()\n",
    "model_alt.add(tf.keras.layers.Conv2D(16, (5, 5), activation='relu', input_shape=(28, 28, 1)))\n",
    "model_alt.add(tf.keras.layers.MaxPooling2D((3, 3)))\n",
    "model_alt.add(tf.keras.layers.Conv2D(32, (5, 5), activation='relu'))\n",
    "model_alt.add(tf.keras.layers.MaxPooling2D((2, 2)))\n",
    "model_alt.add(tf.keras.layers.Flatten())\n",
    "model_alt.add(tf.keras.layers.Dense(64, activation=\"relu\"))\n",
    "model_alt.add(tf.keras.layers.Dense(10))"
   ]
  },
  {
   "cell_type": "code",
   "execution_count": 106,
   "metadata": {},
   "outputs": [
    {
     "name": "stdout",
     "output_type": "stream",
     "text": [
      "Model: \"sequential_7\"\n",
      "_________________________________________________________________\n",
      " Layer (type)                Output Shape              Param #   \n",
      "=================================================================\n",
      " conv2d_14 (Conv2D)          (None, 24, 24, 16)        416       \n",
      "                                                                 \n",
      " max_pooling2d_14 (MaxPooli  (None, 8, 8, 16)          0         \n",
      " ng2D)                                                           \n",
      "                                                                 \n",
      " conv2d_15 (Conv2D)          (None, 4, 4, 32)          12832     \n",
      "                                                                 \n",
      " max_pooling2d_15 (MaxPooli  (None, 2, 2, 32)          0         \n",
      " ng2D)                                                           \n",
      "                                                                 \n",
      " flatten_7 (Flatten)         (None, 128)               0         \n",
      "                                                                 \n",
      " dense_14 (Dense)            (None, 64)                8256      \n",
      "                                                                 \n",
      " dense_15 (Dense)            (None, 10)                650       \n",
      "                                                                 \n",
      "=================================================================\n",
      "Total params: 22154 (86.54 KB)\n",
      "Trainable params: 22154 (86.54 KB)\n",
      "Non-trainable params: 0 (0.00 Byte)\n",
      "_________________________________________________________________\n"
     ]
    }
   ],
   "source": [
    "# Sumário da arquitetura da rede\n",
    "model_alt.summary()"
   ]
  },
  {
   "cell_type": "code",
   "execution_count": 107,
   "metadata": {},
   "outputs": [],
   "source": [
    "# Compilando o modelo\n",
    "model_alt.compile(optimizer='sgd', loss=tf.keras.losses.SparseCategoricalCrossentropy(from_logits=True), metrics=['accuracy'])\n"
   ]
  },
  {
   "cell_type": "code",
   "execution_count": 108,
   "metadata": {},
   "outputs": [
    {
     "name": "stdout",
     "output_type": "stream",
     "text": [
      "Epoch 1/3\n",
      "1875/1875 [==============================] - 5s 3ms/step - loss: 2.7312 - accuracy: 0.1093\n",
      "Epoch 2/3\n",
      "1875/1875 [==============================] - 5s 2ms/step - loss: 2.3010 - accuracy: 0.1118\n",
      "Epoch 3/3\n",
      "1875/1875 [==============================] - 4s 2ms/step - loss: 1.0330 - accuracy: 0.6532\n"
     ]
    },
    {
     "data": {
      "text/plain": [
       "<keras.src.callbacks.History at 0x7f850963dd50>"
      ]
     },
     "execution_count": 108,
     "metadata": {},
     "output_type": "execute_result"
    }
   ],
   "source": [
    "# Treinando o modelo\n",
    "model_alt.fit(x_train_alt, y_train_alt, epochs=3)"
   ]
  },
  {
   "cell_type": "code",
   "execution_count": 109,
   "metadata": {},
   "outputs": [
    {
     "name": "stdout",
     "output_type": "stream",
     "text": [
      "313/313 [==============================] - 0s 1ms/step\n"
     ]
    }
   ],
   "source": [
    "# Testando o modelo\n",
    "predictions_alt = model_alt.predict(x_test_alt)"
   ]
  },
  {
   "cell_type": "code",
   "execution_count": 110,
   "metadata": {},
   "outputs": [
    {
     "data": {
      "image/png": "[encoded data removed]",
      "text/plain": [
       "<Figure size 640x480 with 1 Axes>"
      ]
     },
     "metadata": {},
     "output_type": "display_data"
    },
    {
     "name": "stdout",
     "output_type": "stream",
     "text": [
      "Prediction:  1\n"
     ]
    }
   ],
   "source": [
    "# Exibindo uma previsão\n",
    "random_index = randint(0, len(predictions_alt))\n",
    "plt.imshow(x_test_alt[random_index], cmap=plt.cm.binary)\n",
    "plt.show()\n",
    "print('Prediction: ', np.argmax(predictions_alt[random_index]))"
   ]
  },
  {
   "cell_type": "code",
   "execution_count": null,
   "metadata": {},
   "outputs": [],
   "source": []
  }
 ],
 "metadata": {
  "kernelspec": {
   "display_name": "ambiente",
   "language": "python",
   "name": "python3"
  },
  "language_info": {
   "codemirror_mode": {
    "name": "ipython",
    "version": 3
   },
   "file_extension": ".py",
   "mimetype": "text/x-python",
   "name": "python",
   "nbconvert_exporter": "python",
   "pygments_lexer": "ipython3",
   "version": "3.11.5"
  }
 },
 "nbformat": 4,
 "nbformat_minor": 2
}
